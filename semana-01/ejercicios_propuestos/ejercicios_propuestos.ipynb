{
 "cells": [
  {
   "cell_type": "markdown",
   "metadata": {},
   "source": [
    "<p>\n",
    "<font size='5' face='Georgia, Arial'>IIC-2233 Apunte Programación Avanzada</font><br>\n",
    "<font size='1'> Ejercicios creados a partir de 2019-2 por Equipo Docente IIC2233. </font>\n",
    "<font size='1'> Actualizados en 2020-1.</font>\n",
    "</p>\n",
    "\n",
    "\n",
    "# Ejercicios propuestos: Estructuras de datos *built-ins*"
   ]
  },
  {
   "cell_type": "markdown",
   "metadata": {},
   "source": [
    "Los siguientes problemas se proveen como oportunidad de ejercitar los conceptos revisados en el material de **estructuras de datos *built-ins***. Si tienes dudas sobre algún problema o alguna solución, no dudes en dejar una *issue* en el [foro del curso](https://github.com/IIC2233/syllabus/issues).\n",
    "\n",
    "Los ejercicios se subdividen según la numeración de los cuadernos de la semana. Algunos de ellos se referencian desde los cuadernos de material mismo, mientras que pueden haber otros adicionales para mayor ejercitación."
   ]
  },
  {
   "cell_type": "markdown",
   "metadata": {},
   "source": [
    "## 2. Listas y tuplas"
   ]
  },
  {
   "cell_type": "markdown",
   "metadata": {},
   "source": [
    "### Ejercicio 2.1: ¡A jugar *Pro-Gra-Oh*!"
   ]
  },
  {
   "cell_type": "markdown",
   "metadata": {},
   "source": [
    "Debes simular una versión simplificada del famoso juego de cartas Pro-Gra-Oh!.\n",
    "\n",
    "Para lo anterior deberás cargar las cartas del archivo `cards.csv` (que se encuentra en este mismo directorio), en una estructura de datos adecuada, y completar las funciones que se encuentran a continuación.\n",
    "\n",
    "En una partida de este juego, cada jugador recibirá 5 cartas y atacará con una de sus cartas (aleatoriamente) a una de las cartas del otro jugador (también al azar). Al realizar el ataque, se comparan los puntos de ataque del atacante con los puntos de defensa del defensor; la carta con menor valor debe ser descartada de la mano del jugador.\n",
    "\n",
    "La partida termina cuando un jugador se queda sin cartas."
   ]
  },
  {
   "cell_type": "code",
   "execution_count": 15,
   "metadata": {
    "tags": []
   },
   "outputs": [
    {
     "output_type": "stream",
     "name": "stdout",
     "text": "Turno número 1\nTurno número 2\nTurno número 3\nTurno número 4\nTurno número 5\nTurno número 6\nTurno número 7\nTurno número 8\nTurno número 9\nGanador: Jugador 1\n"
    }
   ],
   "source": [
    "from collections import namedtuple\n",
    "\n",
    "import random\n",
    "\n",
    "class Juego:\n",
    "    \n",
    "    def __init__(self, turnos):\n",
    "        \n",
    "        self.mazo = []\n",
    "        self.cartas_j1 = []\n",
    "        self.cartas_j2 = []\n",
    "        \n",
    "        self.read_file()\n",
    "        self.repartir_cartas()\n",
    "        self.comenzar_juego(turnos)\n",
    "    \n",
    "    def read_file(self):\n",
    "        archivo = open(\"cards.csv\", \"r\",encoding=\"utf-8\")\n",
    "        datos = archivo.readlines()\n",
    "        lista_cartas = []\n",
    "        for dato in datos:\n",
    "            dato_limpio = dato.strip()\n",
    "            lista = dato_limpio.split(\",\")\n",
    "            lista_cartas.append(lista)\n",
    "\n",
    "        Cartas = namedtuple(\"Cartas_mazo\",lista_cartas[0])\n",
    "        lista_cartas.pop(0)\n",
    "        for i in range(len(lista_cartas)):\n",
    "            globals()[\"carta{}\".format(i)] = Cartas(lista_cartas[i][0],int(lista_cartas[i][1]),int(lista_cartas[i][2]))\n",
    "        # Leer las cartas y guardarlas en una estructura de datos adecuada\n",
    "        # NOTA: la primera fila del archivo son los atributos de las cartas\n",
    "        pass\n",
    "    \n",
    "    def repartir_cartas(self):\n",
    "        lista_numeros = []\n",
    "        for i in range(99):\n",
    "            lista_numeros.append(i)\n",
    "\n",
    "        for i in range(5):\n",
    "            random.shuffle(lista_numeros)\n",
    "            numero_carta = lista_numeros[0]\n",
    "            self.cartas_j1.append(globals()[\"carta{}\".format(numero_carta)])\n",
    "            lista_numeros.pop(0)\n",
    "            random.shuffle(lista_numeros)\n",
    "            numero_carta = lista_numeros[0]\n",
    "            self.cartas_j2.append(globals()[\"carta{}\".format(numero_carta)])\n",
    "        # Barajar las cartas y repartirlas de a 1\n",
    "        pass\n",
    "    \n",
    "    def atacar(self, atacante, defensa): #atacante y defensa son tuplas self.cartas_jn[indice]\n",
    "        ptos_ataque = atacante.ataque\n",
    "        ptos_defensa = defensa.defensa\n",
    "        if ptos_ataque > ptos_defensa:\n",
    "            if defensa in self.cartas_j2:\n",
    "                self.cartas_j2.remove(defensa)\n",
    "            else:\n",
    "                self.cartas_j1.remove(defensa)\n",
    "        else:\n",
    "            if atacante in self.cartas_j2:\n",
    "                self.cartas_j2.remove(atacante)\n",
    "            else:\n",
    "                self.cartas_j1.remove(atacante)\n",
    "            \n",
    "            \n",
    "\n",
    "\n",
    "        # Rellenar aquí\n",
    "    \n",
    "    def comenzar_juego(self, turnos):\n",
    "        terminar_juego = 0\n",
    "        for i in range(1, turnos + 1):\n",
    "            if terminar_juego == 0:\n",
    "                print(f\"Turno número {i}\")\n",
    "                if i % 2:\n",
    "                    # Ataca el jugador 1\n",
    "                    # Rellenar aquí\n",
    "                    indice_carta_j1 = random.randint(0,len(self.cartas_j1)-1) #revisar si va el -1\n",
    "                    indice_carta_j2 = random.randint(0,len(self.cartas_j2)-1)\n",
    "                    Juego.atacar(self,self.cartas_j1[indice_carta_j1],self.cartas_j2[indice_carta_j2])\n",
    "                    pass\n",
    "                else:\n",
    "                    # Ataca el jugador 2\n",
    "                    # Rellenar aquí\n",
    "                    indice_carta_j1 = random.randint(0,len(self.cartas_j1)-1) #revisar si va el -1\n",
    "                    indice_carta_j2 = random.randint(0,len(self.cartas_j2)-1)\n",
    "                    Juego.atacar(self,self.cartas_j2[indice_carta_j2],self.cartas_j1[indice_carta_j1])\n",
    "\n",
    "                if len(self.cartas_j1) == 0:\n",
    "                        print(f\"Ganador: Jugador 2\")\n",
    "                        terminar_juego = 1\n",
    "\n",
    "                elif len(self.cartas_j2) == 0:\n",
    "                        print(f\"Ganador: Jugador 1\")\n",
    "                        terminar_juego = 1\n",
    "\n",
    "            \n",
    "                \n",
    "\n",
    "\n",
    "juego = Juego(10)"
   ]
  },
  {
   "cell_type": "markdown",
   "metadata": {},
   "source": [
    "## 3. *Stacks*"
   ]
  },
  {
   "cell_type": "markdown",
   "metadata": {},
   "source": [
    "### Ejercicio 3.1: Torre de Hanói"
   ]
  },
  {
   "cell_type": "markdown",
   "metadata": {},
   "source": [
    "Una Torre de Hanói es un rompecabezas consistente en una serie de discos perforados que deben trasladarse desde su posición inicial en el primer pilar, ordenados desde el más grande abajo hasta el más pequeño arriba, hasta la misma posición pero en el tercer pilar. Sin embargo, hay una regla importante: **debes trasladar los discos al tercer poste moviendo un disco a la vez y sin colocar un disco grande encima de uno pequeño**. Ahora implementarás tu propia versión de este rompecabezas.\n",
    "\n",
    "![](../img/hanoi-1.png)\n",
    "\n",
    "La clase `TorreDeHanoi` está conformada por 3 pilares, donde cada uno es un *stack*, ya que solo puedes añadir y quitar discos por un extremo de cada pilar. La clase viene con los métodos `__init__` y `__str__` implementados, por lo que puedes ver el estado inicial de la torre. Sin embargo, **solo con métodos de *stacks***, deberás implementar el método `mover_disco`, que recibe el número del pilar desde donde sale el disco y el número del pilar al que llega un disco. Cabe destacar que el tamaño de un disco está representado por el número contenido en el pilar (por ejemplo, el 6 representa al disco más grande y el 1 al más pequeño). Una vez que implementes este método, te retamos a hacer una función que ocupe las operaciones de *stacks* necesarias para mover el disco. **Recuerda no colocar un disco grande encima de uno pequeño**.\n",
    "\n",
    "![](../img/hanoi-2.png)\n",
    "\n",
    "**PS:** Además, te retamos a: (1) verificar que un movimiento es válido (no queda un disco grande sobre uno pequeño) y (2) crear una función que verifique si el rompecabezas fue completado correctamente . "
   ]
  },
  {
   "cell_type": "code",
   "execution_count": 7,
   "metadata": {},
   "outputs": [],
   "source": [
    "class TorreDeHanoi:\n",
    "    \n",
    "    def __init__(self):\n",
    "        self.pilar_1 = [6, 5, 4, 3, 2, 1]\n",
    "        self.pilar_2 = []\n",
    "        self.pilar_3 = []\n",
    "        \n",
    "    def mover_disco(self, pilar_origen, pilar_destino):\n",
    "        # Recuerda que debes sacar el elemento que está más arriba en el pilar de origen\n",
    "        # y colocarlo en lo más alto del pilar de destino\n",
    "        # Sacar el disco\n",
    "        pass\n",
    "    \n",
    "    def __str__(self):\n",
    "        output = \"\"\n",
    "        # Range termina con -1 para recorrer al revés\n",
    "        for i in range(5, -1, -1):\n",
    "            fila = \" \"  # Armamos una fila a la vez, desde arriba\n",
    "            # Pilar 1\n",
    "            if len(self.pilar_1) > i:\n",
    "                fila += str(self.pilar_1[i]) + \" \"\n",
    "            else:\n",
    "                fila += \"x \"\n",
    "            # Pilar 2\n",
    "            if len(self.pilar_2) > i:\n",
    "                fila += str(self.pilar_2[i]) + \" \"\n",
    "            else:\n",
    "                fila += \"x \"\n",
    "            # Pilar 3\n",
    "            if len(self.pilar_3) > i:\n",
    "                fila += str(self.pilar_3[i]) + \" \"\n",
    "            else:\n",
    "                fila += \"x \"\n",
    "            output += fila + \"\\n\"\n",
    "        output += \"=\" * 7 + \"\\n\"\n",
    "        return output"
   ]
  },
  {
   "cell_type": "code",
   "execution_count": 8,
   "metadata": {
    "tags": []
   },
   "outputs": [
    {
     "output_type": "stream",
     "name": "stdout",
     "text": "1 x x \n 2 x x \n 3 x x \n 4 x x \n 5 x x \n 6 x x \n=======\n\n"
    }
   ],
   "source": [
    "torre_de_hanoi = TorreDeHanoi()\n",
    "print(torre_de_hanoi)"
   ]
  },
  {
   "cell_type": "code",
   "execution_count": 9,
   "metadata": {
    "tags": []
   },
   "outputs": [
    {
     "output_type": "stream",
     "name": "stdout",
     "text": "1 x x \n 2 x x \n 3 x x \n 4 x x \n 5 x x \n 6 x x \n=======\n\n"
    }
   ],
   "source": [
    "torre_de_hanoi.mover_disco(1, 2) # Del pilar 1 al pilar 2\n",
    "print(torre_de_hanoi)"
   ]
  },
  {
   "cell_type": "markdown",
   "metadata": {},
   "source": [
    "## 4. Colas"
   ]
  },
  {
   "cell_type": "markdown",
   "metadata": {},
   "source": [
    "### Ejercicio 4.1: Comandos de Git"
   ]
  },
  {
   "cell_type": "markdown",
   "metadata": {},
   "source": [
    "En este ejercicio debes intentar simular los comandos básicos de `git`: `add`, `commit` y `push` usando, para cada una de ellos, alguna estructura básica. Para esto, se te entrega la clase `Repositorio` en donde debes completar los siguientes métodos.\n",
    "\n",
    "- `git add`: No debe dejar que suba a tu repositorio **archivos repetidos**.\n",
    "- `git commit`: Aquí confirmas los cambios que indicaste con `git add` y los dejas \"*en espera*\" según una lógica **FIFO** ( _First in, First out_ ). \n",
    "- `git push`: Se realizan los cambios pedidos en el repositorio.\n",
    "\n",
    "Por simplicidad considera que cada cambio será agregar o eliminar archivos, y no modificaciones a un archivo.\n",
    "\n",
    "Puedes empezar con el siguiente código:"
   ]
  },
  {
   "cell_type": "code",
   "execution_count": 14,
   "metadata": {
    "tags": []
   },
   "outputs": [
    {
     "output_type": "stream",
     "name": "stdout",
     "text": "Agregado el README :D\ndeque(['README.md'])\n['README.md']\nsubiendo datos\ndeque(['README.md', ['data.json', 'client.py', 'user.txt']])\n"
    }
   ],
   "source": [
    "from collections import deque\n",
    "\n",
    "class Repositorio:\n",
    "    \n",
    "    def __init__(self, archivos=[]):\n",
    "        self.archivos_remotos = []\n",
    "        self.archivos_locales = archivos\n",
    "        #puedes agregar más atributos si lo estimas necesario ;)\n",
    "        \n",
    "    def git_add(self, archivos):\n",
    "        #debes completar aquí\n",
    "        pass\n",
    "       \n",
    "        \n",
    "    def git_commit(self, comentario):\n",
    "        print(comentario)\n",
    "        #debes completar aquí\n",
    "        pass\n",
    "    \n",
    "    def git_push(self):\n",
    "        #debes completar aquí\n",
    "        pass\n",
    "    \n",
    "if __name__ == \"__main__\":\n",
    "    mi_repo = Repositorio([\"main.py\", \"windows.py\", \"user.txt\"])\n",
    "    mi_repo.git_add('README.md')\n",
    "    mi_repo.git_commit('Agregado el README :D')\n",
    "    mi_repo.git_push()\n",
    "    mi_repo.git_add([\"data.json\", \"client.py\", \"user.txt\"])\n",
    "    mi_repo.git_commit(\"subiendo datos\")\n",
    "    mi_repo.git_push()\n",
    "    "
   ]
  },
  {
   "cell_type": "markdown",
   "metadata": {},
   "source": [
    "## 5. Diccionarios"
   ]
  },
  {
   "cell_type": "markdown",
   "metadata": {},
   "source": [
    "### Ejercicio 5.1: Indice de consonantes en el abecedario"
   ]
  },
  {
   "cell_type": "markdown",
   "metadata": {},
   "source": [
    "A continuación, se te entrega código que tiene dentro de la variable `letras` un *string* que contiene en orden los caracteres del idioma ingles en orden, desde la `'a'` hasta la `'z'`. Con eso, sigue las siguientes instrucciones:\n",
    "- Crea un diccionario vacío\n",
    "- Por cada caracter en `letras`, crea una asociación en tu diccionario, donde el valor es el caracter y la llave es el índice numérico donde se ubica ese caracter en `letras`. Por ejemplo, primero se agregaría la asociación `0: 'a'`, ya que la `'a'` es el primer caracter en `letras`.\n",
    "- Una vez todas creadas, elimina las asociaciones cuyas llaves sean múltiplos de 3.\n",
    "- Imprime el diccionario que resulta."
   ]
  },
  {
   "cell_type": "code",
   "execution_count": 37,
   "metadata": {
    "tags": []
   },
   "outputs": [
    {
     "output_type": "stream",
     "name": "stdout",
     "text": "abcdefghijklmnopqrstuvwxyz\n{'b': 1, 'c': 2, 'e': 4, 'f': 5, 'h': 7, 'i': 8, 'k': 10, 'l': 11, 'n': 13, 'o': 14, 'q': 16, 'r': 17, 't': 19, 'u': 20, 'w': 22, 'x': 23, 'z': 25}\n"
    }
   ],
   "source": [
    "from string import ascii_lowercase as letras\n",
    "\n",
    "print(letras)\n",
    "alfabeto = {}\n",
    "for i in range(26):\n",
    "    alfabeto[str(letras[i])]=i\n",
    "for i in range(0,26,3):\n",
    "    del alfabeto[letras[i]]\n",
    "print(alfabeto)\n",
    "    \n",
    "\n",
    "\n",
    "# Completar"
   ]
  },
  {
   "cell_type": "markdown",
   "metadata": {},
   "source": [
    "### Ejercicio 5.2: Categorizar por grupo"
   ]
  },
  {
   "cell_type": "markdown",
   "metadata": {},
   "source": [
    "A continuación, se te entrega código incompleto. Hasta el momento, crea una lista (`personas`) de 100 instancias una tupla `Persona` que poseen `edad` y `nacionalidad` cada una. Debes crear dos diccionarios: `personas_por_paises` y `personas_por_edad`, y poblarlos tal  que:\n",
    "- `personas_por_paises` contenga asociaciones donde las llaves son nombres de las distintas nacionalidades posibles para las instancias de `Persona`, y el valor asociado es una lista con aquellas instancias en `personas` que tienen ese valor de `nacionalidad`.\n",
    "- `personas_por_edad` similarmente contenga listas de instancias en `personas` pero categorizados por rangos de edades en las llaves. Específicamente, las llaves deben ser tuplas que indiquen los extremos de dichos rangos que vayan de 10 en 10. Es decir: `(0, 10)`,  `(11, 20)`, ..., `(91, 100)`; son llaves del diccionario.\n",
    "\n",
    "**Observación**: No hay una única forma de generar lo pedido, intenta hacerlo como puedas inicialmente, y luego analiza si lo puedes alterar o usar otro tipo de definición de diccionario distinta."
   ]
  },
  {
   "cell_type": "code",
   "execution_count": 64,
   "metadata": {
    "tags": []
   },
   "outputs": [
    {
     "output_type": "stream",
     "name": "stdout",
     "text": "Lista por nacionalidades: defaultdict(<function funcion_default at 0x10d96e680>, {'Argentina': [Persona(edad=35, nacionalidad='Argentina'), Persona(edad=16, nacionalidad='Argentina'), Persona(edad=43, nacionalidad='Argentina'), Persona(edad=26, nacionalidad='Argentina'), Persona(edad=38, nacionalidad='Argentina'), Persona(edad=44, nacionalidad='Argentina'), Persona(edad=28, nacionalidad='Argentina'), Persona(edad=37, nacionalidad='Argentina'), Persona(edad=50, nacionalidad='Argentina'), Persona(edad=74, nacionalidad='Argentina'), Persona(edad=20, nacionalidad='Argentina'), Persona(edad=89, nacionalidad='Argentina'), Persona(edad=76, nacionalidad='Argentina'), Persona(edad=87, nacionalidad='Argentina'), Persona(edad=94, nacionalidad='Argentina'), Persona(edad=29, nacionalidad='Argentina'), Persona(edad=98, nacionalidad='Argentina'), Persona(edad=40, nacionalidad='Argentina'), Persona(edad=49, nacionalidad='Argentina'), Persona(edad=97, nacionalidad='Argentina'), Persona(edad=7, nacionalidad='Argentina'), Persona(edad=23, nacionalidad='Argentina'), Persona(edad=100, nacionalidad='Argentina'), Persona(edad=78, nacionalidad='Argentina'), Persona(edad=25, nacionalidad='Argentina'), Persona(edad=42, nacionalidad='Argentina'), Persona(edad=33, nacionalidad='Argentina'), Persona(edad=3, nacionalidad='Argentina'), Persona(edad=22, nacionalidad='Argentina'), Persona(edad=15, nacionalidad='Argentina'), Persona(edad=7, nacionalidad='Argentina')], 'Bolivia': [Persona(edad=43, nacionalidad='Bolivia'), Persona(edad=22, nacionalidad='Bolivia'), Persona(edad=26, nacionalidad='Bolivia'), Persona(edad=97, nacionalidad='Bolivia'), Persona(edad=18, nacionalidad='Bolivia'), Persona(edad=19, nacionalidad='Bolivia'), Persona(edad=28, nacionalidad='Bolivia'), Persona(edad=11, nacionalidad='Bolivia'), Persona(edad=18, nacionalidad='Bolivia'), Persona(edad=75, nacionalidad='Bolivia'), Persona(edad=27, nacionalidad='Bolivia'), Persona(edad=87, nacionalidad='Bolivia'), Persona(edad=65, nacionalidad='Bolivia'), Persona(edad=93, nacionalidad='Bolivia'), Persona(edad=18, nacionalidad='Bolivia'), Persona(edad=24, nacionalidad='Bolivia'), Persona(edad=56, nacionalidad='Bolivia'), Persona(edad=44, nacionalidad='Bolivia'), Persona(edad=38, nacionalidad='Bolivia'), Persona(edad=45, nacionalidad='Bolivia'), Persona(edad=62, nacionalidad='Bolivia')], 'Chile': [Persona(edad=0, nacionalidad='Chile'), Persona(edad=81, nacionalidad='Chile'), Persona(edad=49, nacionalidad='Chile'), Persona(edad=34, nacionalidad='Chile'), Persona(edad=10, nacionalidad='Chile'), Persona(edad=80, nacionalidad='Chile'), Persona(edad=83, nacionalidad='Chile'), Persona(edad=17, nacionalidad='Chile'), Persona(edad=80, nacionalidad='Chile'), Persona(edad=6, nacionalidad='Chile'), Persona(edad=55, nacionalidad='Chile'), Persona(edad=20, nacionalidad='Chile'), Persona(edad=24, nacionalidad='Chile'), Persona(edad=54, nacionalidad='Chile'), Persona(edad=62, nacionalidad='Chile'), Persona(edad=90, nacionalidad='Chile'), Persona(edad=28, nacionalidad='Chile'), Persona(edad=52, nacionalidad='Chile'), Persona(edad=21, nacionalidad='Chile'), Persona(edad=20, nacionalidad='Chile'), Persona(edad=9, nacionalidad='Chile'), Persona(edad=10, nacionalidad='Chile')], 'Perú': [Persona(edad=57, nacionalidad='Perú'), Persona(edad=69, nacionalidad='Perú'), Persona(edad=90, nacionalidad='Perú'), Persona(edad=18, nacionalidad='Perú'), Persona(edad=20, nacionalidad='Perú'), Persona(edad=93, nacionalidad='Perú'), Persona(edad=44, nacionalidad='Perú'), Persona(edad=15, nacionalidad='Perú'), Persona(edad=63, nacionalidad='Perú'), Persona(edad=18, nacionalidad='Perú'), Persona(edad=71, nacionalidad='Perú'), Persona(edad=28, nacionalidad='Perú'), Persona(edad=31, nacionalidad='Perú'), Persona(edad=51, nacionalidad='Perú'), Persona(edad=65, nacionalidad='Perú'), Persona(edad=94, nacionalidad='Perú'), Persona(edad=60, nacionalidad='Perú'), Persona(edad=81, nacionalidad='Perú'), Persona(edad=32, nacionalidad='Perú'), Persona(edad=54, nacionalidad='Perú'), Persona(edad=90, nacionalidad='Perú'), Persona(edad=100, nacionalidad='Perú'), Persona(edad=13, nacionalidad='Perú'), Persona(edad=67, nacionalidad='Perú'), Persona(edad=45, nacionalidad='Perú'), Persona(edad=89, nacionalidad='Perú')]})\n\nLista por edades: defaultdict(<function funcion_default at 0x10d96e680>, {(0, 10): [Persona(edad=0, nacionalidad='Chile'), Persona(edad=10, nacionalidad='Chile'), Persona(edad=6, nacionalidad='Chile'), Persona(edad=7, nacionalidad='Argentina'), Persona(edad=9, nacionalidad='Chile'), Persona(edad=10, nacionalidad='Chile'), Persona(edad=3, nacionalidad='Argentina'), Persona(edad=7, nacionalidad='Argentina')], (11, 20): [Persona(edad=18, nacionalidad='Perú'), Persona(edad=20, nacionalidad='Perú'), Persona(edad=16, nacionalidad='Argentina'), Persona(edad=15, nacionalidad='Perú'), Persona(edad=18, nacionalidad='Bolivia'), Persona(edad=18, nacionalidad='Perú'), Persona(edad=19, nacionalidad='Bolivia'), Persona(edad=20, nacionalidad='Argentina'), Persona(edad=17, nacionalidad='Chile'), Persona(edad=11, nacionalidad='Bolivia'), Persona(edad=18, nacionalidad='Bolivia'), Persona(edad=20, nacionalidad='Chile'), Persona(edad=18, nacionalidad='Bolivia'), Persona(edad=13, nacionalidad='Perú'), Persona(edad=20, nacionalidad='Chile'), Persona(edad=15, nacionalidad='Argentina')], (21, 30): [Persona(edad=22, nacionalidad='Bolivia'), Persona(edad=26, nacionalidad='Bolivia'), Persona(edad=26, nacionalidad='Argentina'), Persona(edad=28, nacionalidad='Argentina'), Persona(edad=28, nacionalidad='Bolivia'), Persona(edad=28, nacionalidad='Perú'), Persona(edad=29, nacionalidad='Argentina'), Persona(edad=27, nacionalidad='Bolivia'), Persona(edad=24, nacionalidad='Chile'), Persona(edad=23, nacionalidad='Argentina'), Persona(edad=28, nacionalidad='Chile'), Persona(edad=24, nacionalidad='Bolivia'), Persona(edad=21, nacionalidad='Chile'), Persona(edad=25, nacionalidad='Argentina'), Persona(edad=22, nacionalidad='Argentina')], (31, 40): [Persona(edad=35, nacionalidad='Argentina'), Persona(edad=38, nacionalidad='Argentina'), Persona(edad=37, nacionalidad='Argentina'), Persona(edad=34, nacionalidad='Chile'), Persona(edad=31, nacionalidad='Perú'), Persona(edad=40, nacionalidad='Argentina'), Persona(edad=32, nacionalidad='Perú'), Persona(edad=33, nacionalidad='Argentina'), Persona(edad=38, nacionalidad='Bolivia')], (41, 50): [Persona(edad=43, nacionalidad='Bolivia'), Persona(edad=44, nacionalidad='Perú'), Persona(edad=43, nacionalidad='Argentina'), Persona(edad=44, nacionalidad='Argentina'), Persona(edad=49, nacionalidad='Chile'), Persona(edad=50, nacionalidad='Argentina'), Persona(edad=49, nacionalidad='Argentina'), Persona(edad=45, nacionalidad='Perú'), Persona(edad=42, nacionalidad='Argentina'), Persona(edad=44, nacionalidad='Bolivia'), Persona(edad=45, nacionalidad='Bolivia')], (51, 60): [Persona(edad=57, nacionalidad='Perú'), Persona(edad=51, nacionalidad='Perú'), Persona(edad=60, nacionalidad='Perú'), Persona(edad=55, nacionalidad='Chile'), Persona(edad=54, nacionalidad='Perú'), Persona(edad=54, nacionalidad='Chile'), Persona(edad=52, nacionalidad='Chile'), Persona(edad=56, nacionalidad='Bolivia')], (61, 70): [Persona(edad=69, nacionalidad='Perú'), Persona(edad=63, nacionalidad='Perú'), Persona(edad=65, nacionalidad='Perú'), Persona(edad=65, nacionalidad='Bolivia'), Persona(edad=62, nacionalidad='Chile'), Persona(edad=67, nacionalidad='Perú'), Persona(edad=62, nacionalidad='Bolivia')], (71, 80): [Persona(edad=71, nacionalidad='Perú'), Persona(edad=74, nacionalidad='Argentina'), Persona(edad=80, nacionalidad='Chile'), Persona(edad=76, nacionalidad='Argentina'), Persona(edad=80, nacionalidad='Chile'), Persona(edad=75, nacionalidad='Bolivia'), Persona(edad=78, nacionalidad='Argentina')], (81, 90): [Persona(edad=90, nacionalidad='Perú'), Persona(edad=81, nacionalidad='Chile'), Persona(edad=83, nacionalidad='Chile'), Persona(edad=89, nacionalidad='Argentina'), Persona(edad=87, nacionalidad='Argentina'), Persona(edad=87, nacionalidad='Bolivia'), Persona(edad=81, nacionalidad='Perú'), Persona(edad=90, nacionalidad='Perú'), Persona(edad=90, nacionalidad='Chile'), Persona(edad=89, nacionalidad='Perú')], (91, 100): [Persona(edad=93, nacionalidad='Perú'), Persona(edad=97, nacionalidad='Bolivia'), Persona(edad=94, nacionalidad='Argentina'), Persona(edad=94, nacionalidad='Perú'), Persona(edad=98, nacionalidad='Argentina'), Persona(edad=93, nacionalidad='Bolivia'), Persona(edad=97, nacionalidad='Argentina'), Persona(edad=100, nacionalidad='Perú'), Persona(edad=100, nacionalidad='Argentina')]})\n"
    }
   ],
   "source": [
    "from random import choice, randint\n",
    "from collections import namedtuple, defaultdict # Puedes usar defaultdict si lo deseas\n",
    "\n",
    "def funcion_default():\n",
    "    return []\n",
    "\n",
    "paises = ['Argentina', 'Bolivia', 'Chile', 'Perú']\n",
    "Persona = namedtuple('Persona', 'edad nacionalidad')\n",
    "personas_por_paises = defaultdict(funcion_default)\n",
    "personas_por_edad = defaultdict(funcion_default)\n",
    "\n",
    "personas = []\n",
    "for i in range(100):\n",
    "    nueva_persona = Persona(randint(0, 100), choice(paises))\n",
    "    personas.append(nueva_persona)\n",
    "\n",
    "for pais in paises:\n",
    "    personas_por_paises[pais]\n",
    "\n",
    "for persona in personas:\n",
    "    personas_por_paises[persona.nacionalidad].append(persona)\n",
    "\n",
    "lista_tuplas = []\n",
    "lista_tuplas.append((0,10))\n",
    "inicio = 11\n",
    "final = 20\n",
    "for i in range(9):\n",
    "    tupla = (inicio,final)\n",
    "    lista_tuplas.append(tupla)\n",
    "    inicio += 10\n",
    "    final += 10\n",
    "\n",
    "for tupla in lista_tuplas:\n",
    "    personas_por_edad[tupla]\n",
    "\n",
    "for persona in personas:\n",
    "    edad = int(persona.edad)\n",
    "    for tupla in dict.keys(personas_por_edad):\n",
    "        if edad >= tupla[0] and edad <= tupla[1]:\n",
    "            personas_por_edad[tupla].append(persona)  \n",
    "\n",
    "print(f\"Lista por nacionalidades: {personas_por_paises}\")\n",
    "print()\n",
    "print(f\"Lista por edades: {personas_por_edad}\")\n",
    "\n",
    "\n",
    "# Completar"
   ]
  },
  {
   "cell_type": "markdown",
   "metadata": {},
   "source": [
    "### Ejercicio 5.3: Diccionarios y funciones"
   ]
  },
  {
   "cell_type": "markdown",
   "metadata": {},
   "source": [
    "El siguiente código tiene lo necesario para simular el movimiento de un objeto en una matriz de 3 por 3. La variable `tablero` es una lista de listas con el contenido del tablero matricial, donde `'o'` representa el objeto en movimiento, y `pos` es un posición actual en la matriz. Por otro lado, las funciones `bajar`, `subir`, `derecha` e `izquierda` generan los cambios en `tablero` y `pos` para mover el objeto correspondientemente.\n",
    "\n",
    "La última sección genera interacción con el usuario mediante `input`, donde al recibir los caracteres `'a'`, `'s'`, `'d'`, `'w'` y `'q'` genera una acción. Ya está definido que al ingresar `'q'`, se termina el programa. Debes completar el programa para que al ingresar `'a'` el objeto se mueva a la izquierda, al ingresar `'d'` el objeto se mueva a la derecha, al ingresar `'s'` el objeto se mueva hacia abajo, y al ingresar `'w'` el objeto se mueva hacia arriba.\n",
    "\n",
    "**Observación:** Es fácil el ejercicio utilizando más sentencias `if-elif-else`. Intenta no usarlas y utilizar un diccionario para resolverlo."
   ]
  },
  {
   "cell_type": "code",
   "execution_count": null,
   "metadata": {
    "tags": []
   },
   "outputs": [],
   "source": [
    "tablero = [['-', '-', '-'], ['-', 'o', '-'], ['-', '-', '-']]\n",
    "pos = (1, 1)\n",
    "\n",
    "def bajar(tablero, pos):\n",
    "    tablero[pos[1]][pos[0]] = '-'\n",
    "    pos = (pos[0], min(pos[1] + 1, 2))\n",
    "    tablero[pos[1]][pos[0]] = 'o'\n",
    "    return tablero, pos\n",
    "\n",
    "def subir(tablero, pos):\n",
    "    tablero[pos[1]][pos[0]] = '-'\n",
    "    pos = (pos[0], max(pos[1] - 1, 0))\n",
    "    tablero[pos[1]][pos[0]] = 'o'\n",
    "    return tablero, pos\n",
    "    \n",
    "def derecha(tablero, pos):\n",
    "    tablero[pos[1]][pos[0]] = '-'\n",
    "    pos = (min(pos[0] + 1, 2), pos[1])\n",
    "    tablero[pos[1]][pos[0]] = 'o'\n",
    "    return tablero, pos\n",
    "\n",
    "def izquierda(tablero, pos):\n",
    "    tablero[pos[1]][pos[0]] = '-'\n",
    "    pos = (max(pos[0] - 1, 0), pos[1])\n",
    "    tablero[pos[1]][pos[0]] = 'o'\n",
    "    return tablero, pos\n",
    "\n",
    "# Puedes rellenar aquí\n",
    "movimiento_letras = {\"a\":izquierda,\"d\":derecha,\"s\":bajar,\"w\":subir}\n",
    "\n",
    "tablero = [['-', '-', '-'], ['-', 'o', '-'], ['-', '-', '-']]\n",
    "pos = (1, 1)\n",
    "\n",
    "while True:\n",
    "    for fila in tablero:\n",
    "        print(\"\".join(fila))\n",
    "    accion = input(\"Ingresa acción: \")\n",
    "    if accion in \"asdw\":\n",
    "        tablero, pos = movimiento_letras[accion](tablero, pos)\n",
    "        # Completar aquí\n",
    "    elif accion == \"q\":\n",
    "        print(\"¡Adios!\")\n",
    "        break\n",
    "    else:\n",
    "        print(\"Inválido\")"
   ]
  },
  {
   "cell_type": "markdown",
   "metadata": {},
   "source": [
    "## 6. *Sets*"
   ]
  },
  {
   "cell_type": "markdown",
   "metadata": {},
   "source": [
    "### Ejercicio 6.1: *Set* de números aleatorios"
   ]
  },
  {
   "cell_type": "markdown",
   "metadata": {},
   "source": [
    "Crea un *set* vació, y agrega 100 veces un número aleatorio entre 0 y 100. Luego imprime el *set* que resulta. \n",
    "Una vez resuelto, intenta generar el mismo resultado utilizando una estructura por comprensión."
   ]
  },
  {
   "cell_type": "code",
   "execution_count": 1,
   "metadata": {
    "tags": []
   },
   "outputs": [
    {
     "output_type": "stream",
     "name": "stdout",
     "text": "{0, 1, 2, 3, 4, 5, 6, 7, 8, 9, 10, 11, 12, 13, 14, 15, 16, 17, 18, 19, 20, 21, 22, 23, 24, 25, 26, 27, 28, 29, 30, 31, 32, 33, 34, 35, 36, 37, 38, 39, 40, 41, 42, 43, 44, 45, 46, 47, 48, 49, 50, 51, 52, 53, 54, 55, 56, 57, 58, 59, 60, 61, 62, 63, 64, 65, 66, 67, 68, 70, 71, 72, 73, 74, 75, 76, 77, 78, 79, 80, 81, 82, 83, 84, 85, 86, 87, 88, 89, 90, 91, 92, 93, 94, 95, 96, 97, 98, 99, 100}\n"
    }
   ],
   "source": [
    "from random import randint\n",
    "\n",
    "numeros = set()\n",
    "while len(numeros) < 100:\n",
    "    numeros.add(randint(0,100))\n",
    "print(numeros) #por que se ordenan?????\n",
    "# Completar"
   ]
  },
  {
   "cell_type": "markdown",
   "metadata": {},
   "source": [
    "### Ejercicio 6.2: Eficiencia de revisión de pertenencia en *sets*"
   ]
  },
  {
   "cell_type": "markdown",
   "metadata": {},
   "source": [
    "La intención es extender el experimento del material que revisa el tiempo que demora buscar cierto elemento en listas y conjuntos muy grandes. En ese ejemplo, siempre se buscaba el mismo elemento. Ahora, debes extenderlo para probar varios casos, donde el elemento buscado varía. Se te entrega creada una función (`pertenencia_cronometrada`) que cronometra la revisión de pertenencia de un elemento en una estructura cualquiera; y luego está la creación del *set* y lista gigantes. El programa debe generar 100 experimentos donde busca en ambas estructuras un elemento aleatorio cualquiera y cronometra cuanto demora en cada estructura. Finalmente debe mostrar también cuanto tiempo promedio tomó para cada estructura la búsqueda en la totalidad de los experimentos.\n",
    "\n",
    "Una vez completado eso, extiende la simulación para que cada experimento aleatorio nuevo **no se repita**."
   ]
  },
  {
   "cell_type": "code",
   "execution_count": 23,
   "metadata": {
    "tags": []
   },
   "outputs": [
    {
     "output_type": "stream",
     "name": "stdout",
     "text": "set  -- La búsqueda de 3489353 demoró... 0.000002 segundos.\nlist -- La búsqueda de 3489353 demoró... 0.068768 segundos.\nset  -- La búsqueda de 7439867 demoró... 0.000002 segundos.\nlist -- La búsqueda de 7439867 demoró... 0.261774 segundos.\nset  -- La búsqueda de 575790 demoró... 0.000011 segundos.\nlist -- La búsqueda de 575790 demoró... 0.007959 segundos.\nset  -- La búsqueda de 1667972 demoró... 0.000012 segundos.\nlist -- La búsqueda de 1667972 demoró... 0.018975 segundos.\nset  -- La búsqueda de 2315497 demoró... 0.000026 segundos.\nlist -- La búsqueda de 2315497 demoró... 0.026940 segundos.\nset  -- La búsqueda de 2294317 demoró... 0.000013 segundos.\nlist -- La búsqueda de 2294317 demoró... 0.026567 segundos.\nset  -- La búsqueda de 1963123 demoró... 0.000025 segundos.\nlist -- La búsqueda de 1963123 demoró... 0.022574 segundos.\nset  -- La búsqueda de 1271633 demoró... 0.000013 segundos.\nlist -- La búsqueda de 1271633 demoró... 0.014019 segundos.\nset  -- La búsqueda de 9314476 demoró... 0.000001 segundos.\nlist -- La búsqueda de 9314476 demoró... 0.177310 segundos.\nset  -- La búsqueda de 2825645 demoró... 0.000001 segundos.\nlist -- La búsqueda de 2825645 demoró... 0.034123 segundos.\nset  -- La búsqueda de 3208286 demoró... 0.000001 segundos.\nlist -- La búsqueda de 3208286 demoró... 0.039337 segundos.\nset  -- La búsqueda de 1436979 demoró... 0.000015 segundos.\nlist -- La búsqueda de 1436979 demoró... 0.019617 segundos.\nset  -- La búsqueda de 5139401 demoró... 0.000001 segundos.\nlist -- La búsqueda de 5139401 demoró... 0.062841 segundos.\nset  -- La búsqueda de 2979219 demoró... 0.000001 segundos.\nlist -- La búsqueda de 2979219 demoró... 0.033956 segundos.\nset  -- La búsqueda de 3860013 demoró... 0.000001 segundos.\nlist -- La búsqueda de 3860013 demoró... 0.043598 segundos.\nset  -- La búsqueda de 1989577 demoró... 0.000011 segundos.\nlist -- La búsqueda de 1989577 demoró... 0.022620 segundos.\nset  -- La búsqueda de 383599 demoró... 0.000013 segundos.\nlist -- La búsqueda de 383599 demoró... 0.004959 segundos.\nset  -- La búsqueda de 8856217 demoró... 0.000001 segundos.\nlist -- La búsqueda de 8856217 demoró... 0.100223 segundos.\nset  -- La búsqueda de 253727 demoró... 0.000013 segundos.\nlist -- La búsqueda de 253727 demoró... 0.002784 segundos.\nset  -- La búsqueda de 9208611 demoró... 0.000001 segundos.\nlist -- La búsqueda de 9208611 demoró... 0.101869 segundos.\nset  -- La búsqueda de 4494793 demoró... 0.000001 segundos.\nlist -- La búsqueda de 4494793 demoró... 0.049694 segundos.\nset  -- La búsqueda de 2734774 demoró... 0.000001 segundos.\nlist -- La búsqueda de 2734774 demoró... 0.030768 segundos.\nset  -- La búsqueda de 6406551 demoró... 0.000001 segundos.\nlist -- La búsqueda de 6406551 demoró... 0.071140 segundos.\nset  -- La búsqueda de 7992333 demoró... 0.000001 segundos.\nlist -- La búsqueda de 7992333 demoró... 0.092703 segundos.\nset  -- La búsqueda de 1170152 demoró... 0.000016 segundos.\nlist -- La búsqueda de 1170152 demoró... 0.013731 segundos.\nset  -- La búsqueda de 1583118 demoró... 0.000014 segundos.\nlist -- La búsqueda de 1583118 demoró... 0.018733 segundos.\nset  -- La búsqueda de 1475036 demoró... 0.000042 segundos.\nlist -- La búsqueda de 1475036 demoró... 0.016937 segundos.\nset  -- La búsqueda de 6600687 demoró... 0.000001 segundos.\nlist -- La búsqueda de 6600687 demoró... 0.075792 segundos.\nset  -- La búsqueda de 520909 demoró... 0.000015 segundos.\nlist -- La búsqueda de 520909 demoró... 0.006656 segundos.\nset  -- La búsqueda de 4920 demoró... 0.000013 segundos.\nlist -- La búsqueda de 4920 demoró... 0.000061 segundos.\nset  -- La búsqueda de 9505620 demoró... 0.000001 segundos.\nlist -- La búsqueda de 9505620 demoró... 0.118417 segundos.\nset  -- La búsqueda de 5212332 demoró... 0.000015 segundos.\nlist -- La búsqueda de 5212332 demoró... 0.060268 segundos.\nset  -- La búsqueda de 6639528 demoró... 0.000002 segundos.\nlist -- La búsqueda de 6639528 demoró... 0.072469 segundos.\nset  -- La búsqueda de 5247552 demoró... 0.000001 segundos.\nlist -- La búsqueda de 5247552 demoró... 0.059176 segundos.\nset  -- La búsqueda de 6210548 demoró... 0.000002 segundos.\nlist -- La búsqueda de 6210548 demoró... 0.071106 segundos.\nset  -- La búsqueda de 3239662 demoró... 0.000002 segundos.\nlist -- La búsqueda de 3239662 demoró... 0.038677 segundos.\nset  -- La búsqueda de 9778954 demoró... 0.000001 segundos.\nlist -- La búsqueda de 9778954 demoró... 0.125336 segundos.\nset  -- La búsqueda de 1565748 demoró... 0.000012 segundos.\nlist -- La búsqueda de 1565748 demoró... 0.020342 segundos.\nset  -- La búsqueda de 6008205 demoró... 0.000001 segundos.\nlist -- La búsqueda de 6008205 demoró... 0.073860 segundos.\nset  -- La búsqueda de 4528402 demoró... 0.000001 segundos.\nlist -- La búsqueda de 4528402 demoró... 0.055154 segundos.\nset  -- La búsqueda de 2036138 demoró... 0.000014 segundos.\nlist -- La búsqueda de 2036138 demoró... 0.023692 segundos.\nset  -- La búsqueda de 4993529 demoró... 0.000002 segundos.\nlist -- La búsqueda de 4993529 demoró... 0.058853 segundos.\nset  -- La búsqueda de 6951146 demoró... 0.000001 segundos.\nlist -- La búsqueda de 6951146 demoró... 0.082628 segundos.\nset  -- La búsqueda de 8453543 demoró... 0.000002 segundos.\nlist -- La búsqueda de 8453543 demoró... 0.099886 segundos.\nset  -- La búsqueda de 7068448 demoró... 0.000001 segundos.\nlist -- La búsqueda de 7068448 demoró... 0.078712 segundos.\nset  -- La búsqueda de 9216920 demoró... 0.000001 segundos.\nlist -- La búsqueda de 9216920 demoró... 0.102708 segundos.\nset  -- La búsqueda de 9286142 demoró... 0.000001 segundos.\nlist -- La búsqueda de 9286142 demoró... 0.106845 segundos.\nset  -- La búsqueda de 4183752 demoró... 0.000001 segundos.\nlist -- La búsqueda de 4183752 demoró... 0.045829 segundos.\nset  -- La búsqueda de 1283158 demoró... 0.000013 segundos.\nlist -- La búsqueda de 1283158 demoró... 0.015603 segundos.\nset  -- La búsqueda de 5395062 demoró... 0.000001 segundos.\nlist -- La búsqueda de 5395062 demoró... 0.060464 segundos.\nset  -- La búsqueda de 2802945 demoró... 0.000001 segundos.\nlist -- La búsqueda de 2802945 demoró... 0.031037 segundos.\nset  -- La búsqueda de 1107760 demoró... 0.000028 segundos.\nlist -- La búsqueda de 1107760 demoró... 0.012635 segundos.\nset  -- La búsqueda de 2647517 demoró... 0.000001 segundos.\nlist -- La búsqueda de 2647517 demoró... 0.034141 segundos.\nset  -- La búsqueda de 143376 demoró... 0.000012 segundos.\nlist -- La búsqueda de 143376 demoró... 0.002274 segundos.\nset  -- La búsqueda de 1941861 demoró... 0.000016 segundos.\nlist -- La búsqueda de 1941861 demoró... 0.024857 segundos.\nset  -- La búsqueda de 2658967 demoró... 0.000001 segundos.\nlist -- La búsqueda de 2658967 demoró... 0.031055 segundos.\nset  -- La búsqueda de 1317902 demoró... 0.000013 segundos.\nlist -- La búsqueda de 1317902 demoró... 0.015038 segundos.\nset  -- La búsqueda de 3529073 demoró... 0.000001 segundos.\nlist -- La búsqueda de 3529073 demoró... 0.040575 segundos.\nset  -- La búsqueda de 45063 demoró... 0.000012 segundos.\nlist -- La búsqueda de 45063 demoró... 0.000498 segundos.\nset  -- La búsqueda de 7580939 demoró... 0.000001 segundos.\nlist -- La búsqueda de 7580939 demoró... 0.084189 segundos.\nset  -- La búsqueda de 9658349 demoró... 0.000001 segundos.\nlist -- La búsqueda de 9658349 demoró... 0.107679 segundos.\nset  -- La búsqueda de 5819312 demoró... 0.000001 segundos.\nlist -- La búsqueda de 5819312 demoró... 0.067345 segundos.\nset  -- La búsqueda de 6516536 demoró... 0.000002 segundos.\nlist -- La búsqueda de 6516536 demoró... 0.074262 segundos.\nset  -- La búsqueda de 5969424 demoró... 0.000001 segundos.\nlist -- La búsqueda de 5969424 demoró... 0.065926 segundos.\nset  -- La búsqueda de 109780 demoró... 0.000012 segundos.\nlist -- La búsqueda de 109780 demoró... 0.001182 segundos.\nset  -- La búsqueda de 4198485 demoró... 0.000001 segundos.\nlist -- La búsqueda de 4198485 demoró... 0.046725 segundos.\nset  -- La búsqueda de 6201838 demoró... 0.000001 segundos.\nlist -- La búsqueda de 6201838 demoró... 0.069729 segundos.\nset  -- La búsqueda de 1257843 demoró... 0.000012 segundos.\nlist -- La búsqueda de 1257843 demoró... 0.016068 segundos.\nset  -- La búsqueda de 4078032 demoró... 0.000001 segundos.\nlist -- La búsqueda de 4078032 demoró... 0.048586 segundos.\nset  -- La búsqueda de 7934431 demoró... 0.000002 segundos.\nlist -- La búsqueda de 7934431 demoró... 0.089911 segundos.\nset  -- La búsqueda de 2517340 demoró... 0.000002 segundos.\nlist -- La búsqueda de 2517340 demoró... 0.029888 segundos.\nset  -- La búsqueda de 1187145 demoró... 0.000014 segundos.\nlist -- La búsqueda de 1187145 demoró... 0.014772 segundos.\nset  -- La búsqueda de 3572598 demoró... 0.000001 segundos.\nlist -- La búsqueda de 3572598 demoró... 0.043367 segundos.\nset  -- La búsqueda de 7302348 demoró... 0.000001 segundos.\nlist -- La búsqueda de 7302348 demoró... 0.083007 segundos.\nset  -- La búsqueda de 6229642 demoró... 0.000002 segundos.\nlist -- La búsqueda de 6229642 demoró... 0.069024 segundos.\nset  -- La búsqueda de 2786833 demoró... 0.000002 segundos.\nlist -- La búsqueda de 2786833 demoró... 0.031607 segundos.\nset  -- La búsqueda de 6528280 demoró... 0.000001 segundos.\nlist -- La búsqueda de 6528280 demoró... 0.073485 segundos.\nset  -- La búsqueda de 4270112 demoró... 0.000001 segundos.\nlist -- La búsqueda de 4270112 demoró... 0.048981 segundos.\nset  -- La búsqueda de 7803792 demoró... 0.000001 segundos.\nlist -- La búsqueda de 7803792 demoró... 0.089575 segundos.\nset  -- La búsqueda de 6282052 demoró... 0.000001 segundos.\nlist -- La búsqueda de 6282052 demoró... 0.072113 segundos.\nset  -- La búsqueda de 8853813 demoró... 0.000001 segundos.\nlist -- La búsqueda de 8853813 demoró... 0.105613 segundos.\nset  -- La búsqueda de 8201762 demoró... 0.000002 segundos.\nlist -- La búsqueda de 8201762 demoró... 0.091119 segundos.\nset  -- La búsqueda de 8799111 demoró... 0.000001 segundos.\nlist -- La búsqueda de 8799111 demoró... 0.100667 segundos.\nset  -- La búsqueda de 1507330 demoró... 0.000014 segundos.\nlist -- La búsqueda de 1507330 demoró... 0.017470 segundos.\nset  -- La búsqueda de 2281556 demoró... 0.000011 segundos.\nlist -- La búsqueda de 2281556 demoró... 0.025816 segundos.\nset  -- La búsqueda de 438230 demoró... 0.000012 segundos.\nlist -- La búsqueda de 438230 demoró... 0.005235 segundos.\nset  -- La búsqueda de 9175894 demoró... 0.000002 segundos.\nlist -- La búsqueda de 9175894 demoró... 0.103457 segundos.\nset  -- La búsqueda de 4028358 demoró... 0.000001 segundos.\nlist -- La búsqueda de 4028358 demoró... 0.046742 segundos.\nset  -- La búsqueda de 7918047 demoró... 0.000002 segundos.\nlist -- La búsqueda de 7918047 demoró... 0.094766 segundos.\nset  -- La búsqueda de 3775843 demoró... 0.000001 segundos.\nlist -- La búsqueda de 3775843 demoró... 0.044674 segundos.\nset  -- La búsqueda de 7909934 demoró... 0.000001 segundos.\nlist -- La búsqueda de 7909934 demoró... 0.094155 segundos.\nset  -- La búsqueda de 5287662 demoró... 0.000002 segundos.\nlist -- La búsqueda de 5287662 demoró... 0.065078 segundos.\nset  -- La búsqueda de 8843604 demoró... 0.000001 segundos.\nlist -- La búsqueda de 8843604 demoró... 0.106775 segundos.\nset  -- La búsqueda de 6880372 demoró... 0.000002 segundos.\nlist -- La búsqueda de 6880372 demoró... 0.083657 segundos.\nset  -- La búsqueda de 7821827 demoró... 0.000001 segundos.\nlist -- La búsqueda de 7821827 demoró... 0.093068 segundos.\nset  -- La búsqueda de 3515544 demoró... 0.000002 segundos.\nlist -- La búsqueda de 3515544 demoró... 0.042371 segundos.\nset  -- La búsqueda de 7705692 demoró... 0.000002 segundos.\nlist -- La búsqueda de 7705692 demoró... 0.091284 segundos.\nset  -- La búsqueda de 3641055 demoró... 0.000001 segundos.\nlist -- La búsqueda de 3641055 demoró... 0.042708 segundos.\nset  -- La búsqueda de 3132937 demoró... 0.000002 segundos.\nlist -- La búsqueda de 3132937 demoró... 0.036044 segundos.\nset  -- La búsqueda de 3195605 demoró... 0.000001 segundos.\nlist -- La búsqueda de 3195605 demoró... 0.038277 segundos.\nset  -- La búsqueda en promedio demoró... 0.000002 segundos.\nlist -- La búsqueda en promedio demoró... 0.055856 segundos.\nLa búsqueda en la lista fue 22375.87 veces más lenta que en el set.\n"
    }
   ],
   "source": [
    "from time import time\n",
    "from random import randint\n",
    "\n",
    "def pertenencia_cronometrada(elemento, estructura):\n",
    "    inicio = time()\n",
    "    elemento in estructura\n",
    "    fin = time()\n",
    "    return fin - inicio\n",
    "\n",
    "ELEMENTOS = 10 ** 7\n",
    "lista_gigante = list(range(ELEMENTOS))\n",
    "set_gigante = set(range(ELEMENTOS))\n",
    "set_datos = set()\n",
    "lista_datos = []\n",
    "lista_elementos = []\n",
    "\n",
    "# Puedes rellenar aquí\n",
    "\n",
    "while len(lista_elementos) < 100:\n",
    "    elemento = randint(0,10**7)\n",
    "    if elemento not in lista_elementos:\n",
    "        lista_elementos.append(elemento)\n",
    "        tiempo_set = pertenencia_cronometrada(elemento, set_gigante)\n",
    "        set_datos.add(tiempo_set)\n",
    "        tiempo_lista = pertenencia_cronometrada(elemento, lista_gigante)\n",
    "        lista_datos.append(tiempo_lista)\n",
    "    # Completar\n",
    "\n",
    "    print(f\"set  -- La búsqueda de {elemento} demoró... {tiempo_set:.6f} segundos.\")\n",
    "    print(f\"list -- La búsqueda de {elemento} demoró... {tiempo_lista:.6f} segundos.\")\n",
    "\n",
    "# Puedes rellenar aquí\n",
    "suma_set = 0\n",
    "suma_lista = 0\n",
    "for dato in set_datos:\n",
    "    suma_set += dato\n",
    "set_promedio = suma_set / 100\n",
    "\n",
    "for dato in lista_datos:\n",
    "    suma_lista += dato\n",
    "lista_promedio = suma_lista / 100\n",
    "\n",
    "\n",
    "print(f\"set  -- La búsqueda en promedio demoró... {set_promedio:.6f} segundos.\")\n",
    "print(f\"list -- La búsqueda en promedio demoró... {lista_promedio:.6f} segundos.\")\n",
    "print(f\"La búsqueda en la lista fue {lista_promedio / set_promedio:.2f} veces más lenta que en el set.\")"
   ]
  },
  {
   "cell_type": "markdown",
   "metadata": {},
   "source": [
    "## 7. `args` y `kwargs`"
   ]
  },
  {
   "cell_type": "markdown",
   "metadata": {},
   "source": [
    "### Ejercicio 7.1: Múltiples argumentos de `print`"
   ]
  },
  {
   "cell_type": "markdown",
   "metadata": {},
   "source": [
    "`print` puede recibir una cantidad arbitraría de argumentos posicionales e imprirlos todos con cierto por separador *string* entre ellos. Por defecto, ese separador es el espacio `' '`, pero también recibe un parametro opcional (`sep`) que permite alterar dicho separador. A su vez, recibe un parametro opcional (`end`) que permite alterar con qué termina lo impreso, cuyo default es `'\\n'` (salto de línea).\n",
    "\n",
    "El siguiente código genera una lista de listas con strings numéricos de dos dígitos. Luego se imprime fila por fila, lo cual resulta en la impresión literal de cada sub-lista contenidas en `numeros`."
   ]
  },
  {
   "cell_type": "code",
   "execution_count": 4,
   "metadata": {
    "tags": []
   },
   "outputs": [
    {
     "output_type": "stream",
     "name": "stdout",
     "text": "['00', '01', '02', '03', '04', '05', '06', '07', '08', '09']\n['10', '11', '12', '13', '14', '15', '16', '17', '18', '19']\n['20', '21', '22', '23', '24', '25', '26', '27', '28', '29']\n['30', '31', '32', '33', '34', '35', '36', '37', '38', '39']\n['40', '41', '42', '43', '44', '45', '46', '47', '48', '49']\n['50', '51', '52', '53', '54', '55', '56', '57', '58', '59']\n['60', '61', '62', '63', '64', '65', '66', '67', '68', '69']\n['70', '71', '72', '73', '74', '75', '76', '77', '78', '79']\n['80', '81', '82', '83', '84', '85', '86', '87', '88', '89']\n['90', '91', '92', '93', '94', '95', '96', '97', '98', '99']\n"
    }
   ],
   "source": [
    "numeros = [[str((fila * 10 + columna)).zfill(2) for columna in range(10)] for fila in range(10)]\n",
    "\n",
    "for fila in numeros:\n",
    "    print(fila)"
   ]
  },
  {
   "cell_type": "markdown",
   "metadata": {},
   "source": [
    "Completa las siguientes secciones haciendo uso de los argumentos de `print` para imprimir los números en ciertos formatos. Primero:\n",
    "\n",
    "```\n",
    "00 01 02 03 04 05 06 07 08 09\n",
    "10 11 12 13 14 15 16 17 18 19\n",
    "20 21 22 23 24 25 26 27 28 29\n",
    "30 31 32 33 34 35 36 37 38 39\n",
    "40 41 42 43 44 45 46 47 48 49\n",
    "50 51 52 53 54 55 56 57 58 59\n",
    "60 61 62 63 64 65 66 67 68 69\n",
    "70 71 72 73 74 75 76 77 78 79\n",
    "80 81 82 83 84 85 86 87 88 89\n",
    "90 91 92 93 94 95 96 97 98 99\n",
    "```"
   ]
  },
  {
   "cell_type": "code",
   "execution_count": 42,
   "metadata": {
    "tags": []
   },
   "outputs": [
    {
     "output_type": "stream",
     "name": "stdout",
     "text": "00 01 02 03 04 05 06 07 08 09\n10 11 12 13 14 15 16 17 18 19\n20 21 22 23 24 25 26 27 28 29\n30 31 32 33 34 35 36 37 38 39\n40 41 42 43 44 45 46 47 48 49\n50 51 52 53 54 55 56 57 58 59\n60 61 62 63 64 65 66 67 68 69\n70 71 72 73 74 75 76 77 78 79\n80 81 82 83 84 85 86 87 88 89\n90 91 92 93 94 95 96 97 98 99\n"
    }
   ],
   "source": [
    "for fila in numeros:\n",
    "    # Completar\n",
    "    print(*fila)"
   ]
  },
  {
   "cell_type": "markdown",
   "metadata": {},
   "source": [
    "Luego:\n",
    "```\n",
    "00-01-02-03-04-05-06-07-08-09\n",
    "10-11-12-13-14-15-16-17-18-19\n",
    "20-21-22-23-24-25-26-27-28-29\n",
    "30-31-32-33-34-35-36-37-38-39\n",
    "40-41-42-43-44-45-46-47-48-49\n",
    "50-51-52-53-54-55-56-57-58-59\n",
    "60-61-62-63-64-65-66-67-68-69\n",
    "70-71-72-73-74-75-76-77-78-79\n",
    "80-81-82-83-84-85-86-87-88-89\n",
    "90-91-92-93-94-95-96-97-98-99\n",
    "```"
   ]
  },
  {
   "cell_type": "code",
   "execution_count": 43,
   "metadata": {
    "tags": []
   },
   "outputs": [
    {
     "output_type": "stream",
     "name": "stdout",
     "text": "00-01-02-03-04-05-06-07-08-09\n10-11-12-13-14-15-16-17-18-19\n20-21-22-23-24-25-26-27-28-29\n30-31-32-33-34-35-36-37-38-39\n40-41-42-43-44-45-46-47-48-49\n50-51-52-53-54-55-56-57-58-59\n60-61-62-63-64-65-66-67-68-69\n70-71-72-73-74-75-76-77-78-79\n80-81-82-83-84-85-86-87-88-89\n90-91-92-93-94-95-96-97-98-99\n"
    }
   ],
   "source": [
    "for fila in numeros:\n",
    "    # Completar\n",
    "    print(*fila,sep=\"-\")"
   ]
  },
  {
   "cell_type": "markdown",
   "metadata": {},
   "source": [
    "Y finalmente:\n",
    "```\n",
    "00>01>02>03>04>05>06>07>08>09>10>11>12>13>14>15>16>17>18>19>20>21>22>23>24>25>26>27>28>29>30>31>32>33>34>35>36>37>38>39>40>41>42>43>44>45>46>47>48>49>50>51>52>53>54>55>56>57>58>59>60>61>62>63>64>65>66>67>68>69>70>71>72>73>74>75>76>77>78>79>80>81>82>83>84>85>86>87>88>89>90>91>92>93>94>95>96>97>98>99>\n",
    "```"
   ]
  },
  {
   "cell_type": "code",
   "execution_count": 45,
   "metadata": {
    "tags": []
   },
   "outputs": [
    {
     "output_type": "stream",
     "name": "stdout",
     "text": "00>01>02>03>04>05>06>07>08>0910>11>12>13>14>15>16>17>18>1920>21>22>23>24>25>26>27>28>2930>31>32>33>34>35>36>37>38>3940>41>42>43>44>45>46>47>48>4950>51>52>53>54>55>56>57>58>5960>61>62>63>64>65>66>67>68>6970>71>72>73>74>75>76>77>78>7980>81>82>83>84>85>86>87>88>8990>91>92>93>94>95>96>97>98>99"
    }
   ],
   "source": [
    "for fila in numeros:\n",
    "    # Completar\n",
    "    print(*fila,sep=\">\",end=\"\")"
   ]
  },
  {
   "cell_type": "markdown",
   "metadata": {},
   "source": [
    "### Ejercicio 7.2: Clonando diccionarios"
   ]
  },
  {
   "cell_type": "markdown",
   "metadata": {},
   "source": [
    "La función `dict` permite también crear diccionarios vacíos, o con contenido. Particularmente, permite recibir argumentos por palabra clave de tal forma que el nuevo diccionario creado tenga pares llave-valor iguales a la palabra clave y argumento entregado, respectivamente."
   ]
  },
  {
   "cell_type": "code",
   "execution_count": 20,
   "metadata": {
    "tags": []
   },
   "outputs": [
    {
     "output_type": "stream",
     "name": "stdout",
     "text": "{'uno': 1}\n"
    }
   ],
   "source": [
    "diccionario = dict(uno = 1)\n",
    "print(diccionario)"
   ]
  },
  {
   "cell_type": "markdown",
   "metadata": {},
   "source": [
    "Con esto en mente, completa el siguiente espacio de tal forma que `diccionario_2` sea una copia de `diccionario_1`, pero no el mismo objeto. La solución cabe en una línea y no consiste en replicar la definición de `diccionario_1`."
   ]
  },
  {
   "cell_type": "code",
   "execution_count": 48,
   "metadata": {
    "tags": []
   },
   "outputs": [
    {
     "output_type": "stream",
     "name": "stdout",
     "text": "¿Es el mismo objeto?: False\n"
    }
   ],
   "source": [
    "diccionario_1 = {str(i): 0 for i in range(100)}\n",
    "\n",
    "for i in range(100):\n",
    "    diccionario_2 = dict(i = 0)\n",
    "\n",
    "print(f'¿Es el mismo objeto?: {diccionario_1 is diccionario_2}')"
   ]
  },
  {
   "cell_type": "code",
   "execution_count": null,
   "metadata": {},
   "outputs": [],
   "source": []
  }
 ],
 "metadata": {
  "kernelspec": {
   "display_name": "Python 3",
   "language": "python",
   "name": "python3"
  },
  "language_info": {
   "codemirror_mode": {
    "name": "ipython",
    "version": 3
   },
   "file_extension": ".py",
   "mimetype": "text/x-python",
   "name": "python",
   "nbconvert_exporter": "python",
   "pygments_lexer": "ipython3",
   "version": "3.7.8-final"
  }
 },
 "nbformat": 4,
 "nbformat_minor": 2
}